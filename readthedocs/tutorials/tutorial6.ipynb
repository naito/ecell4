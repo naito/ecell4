{
 "cells": [
  {
   "cell_type": "markdown",
   "metadata": {},
   "source": [
    "# 6. How to Solve ODEs with Rate Law Functions\n",
    "\n",
    "Although the `ode` solver accepts `NetworkModel`, `ode.ODESimulator` owns its model class `ode.ODENetworkModel` and `ode.ODEReactionRule` for the extension. The interface of these classes are almost same with `Model` classes and `ReactionRule`. Here, we explain the usage specific to `ode` especially about `ode.ODERatelaw`."
   ]
  },
  {
   "cell_type": "code",
   "execution_count": 1,
   "metadata": {
    "collapsed": true
   },
   "outputs": [],
   "source": [
    "%matplotlib inline\n",
    "from ecell4 import *"
   ]
  },
  {
   "cell_type": "markdown",
   "metadata": {},
   "source": [
    "However, the rate law support in `ode` is under development. Some functions might be deprecated in the future. Currently, to enable rate laws, the option `ecell4.util.decorator.ENABLE_RATELAW` must be activated as follows:"
   ]
  },
  {
   "cell_type": "code",
   "execution_count": 2,
   "metadata": {
    "collapsed": true
   },
   "outputs": [],
   "source": [
    "util.decorator.ENABLE_RATELAW = True"
   ]
  },
  {
   "cell_type": "markdown",
   "metadata": {},
   "source": [
    "## 6.1. ode.ODEReactionRule\n",
    "\n",
    "`ode.ODEReactionRule` has almost same members with `ReactionRule`."
   ]
  },
  {
   "cell_type": "code",
   "execution_count": 3,
   "metadata": {
    "collapsed": false
   },
   "outputs": [
    {
     "name": "stdout",
     "output_type": "stream",
     "text": [
      "2\n",
      "1\n",
      "1.0\n",
      "A+B>C|1\n"
     ]
    }
   ],
   "source": [
    "rr1 = ReactionRule()\n",
    "rr1.add_reactant(Species(\"A\"))\n",
    "rr1.add_reactant(Species(\"B\"))\n",
    "rr1.add_product(Species(\"C\"))\n",
    "rr1.set_k(1.0)\n",
    "print(len(rr1.reactants()))  # => 2\n",
    "print(len(rr1.products()))  # => 1\n",
    "print(rr1.k())  # => 1.0\n",
    "print(rr1.as_string())  # => A+B>C|1"
   ]
  },
  {
   "cell_type": "code",
   "execution_count": 4,
   "metadata": {
    "collapsed": false
   },
   "outputs": [
    {
     "name": "stdout",
     "output_type": "stream",
     "text": [
      "2\n",
      "1\n",
      "1.0\n",
      "A+B>C|1\n"
     ]
    }
   ],
   "source": [
    "rr2 = ode.ODEReactionRule()\n",
    "rr2.add_reactant(Species(\"A\"))\n",
    "rr2.add_reactant(Species(\"B\"))\n",
    "rr2.add_product(Species(\"C\"))\n",
    "rr2.set_k(1.0)\n",
    "print(len(rr2.reactants()))  # => 2\n",
    "print(len(rr2.products()))  # => 1\n",
    "print(rr2.k())  # => 1.0\n",
    "print(rr2.as_string())  # => A+B>C|1"
   ]
  },
  {
   "cell_type": "markdown",
   "metadata": {},
   "source": [
    "In addition to the common members, `ode.ODEReactionRule` can store stoichiometric coefficients for each `Species`:"
   ]
  },
  {
   "cell_type": "code",
   "execution_count": 5,
   "metadata": {
    "collapsed": false
   },
   "outputs": [
    {
     "name": "stdout",
     "output_type": "stream",
     "text": [
      "A+2*B>2.5*C|1\n"
     ]
    }
   ],
   "source": [
    "rr2 = ode.ODEReactionRule()\n",
    "rr2.add_reactant(Species(\"A\"), 1.0)\n",
    "rr2.add_reactant(Species(\"B\"), 2.0)\n",
    "rr2.add_product(Species(\"C\"), 2.5)\n",
    "rr2.set_k(1.0)\n",
    "print(rr2.as_string())"
   ]
  },
  {
   "cell_type": "markdown",
   "metadata": {},
   "source": [
    "You can also access to the coefficients as follows:"
   ]
  },
  {
   "cell_type": "code",
   "execution_count": 6,
   "metadata": {
    "collapsed": false
   },
   "outputs": [
    {
     "name": "stdout",
     "output_type": "stream",
     "text": [
      "[1.0, 2.0]\n",
      "[2.5]\n"
     ]
    }
   ],
   "source": [
    "print(rr2.reactants_coefficients())  # => [1.0, 2.0]\n",
    "print(rr2.products_coefficients())  # => [2.5]"
   ]
  },
  {
   "cell_type": "markdown",
   "metadata": {},
   "source": [
    "## 6.2. ode.ODERatelaw\n",
    "\n",
    "`ode.ODEReactionRule` can be bound to a `ode.ODERatelaw`. `ode.ODERatelaw` provides a function to calculate a derivative (flux or velocity) based on the given values of `Species`. `ode.ODERatelawMassAction` is a default class bound to `ode.ODEReactionRule`."
   ]
  },
  {
   "cell_type": "code",
   "execution_count": 7,
   "metadata": {
    "collapsed": false
   },
   "outputs": [
    {
     "name": "stdout",
     "output_type": "stream",
     "text": [
      "A+B>C|2\n"
     ]
    }
   ],
   "source": [
    "rr1 = ode.ODEReactionRule()\n",
    "rr1.add_reactant(Species(\"A\"))\n",
    "rr1.add_reactant(Species(\"B\"))\n",
    "rr1.add_product(Species(\"C\"))\n",
    "rl1 = ode.ODERatelawMassAction(2.0)\n",
    "rr1.set_ratelaw(rl1)  # equivalent to rr1.set_k(2.0)\n",
    "print(rr1.as_string())"
   ]
  },
  {
   "cell_type": "markdown",
   "metadata": {},
   "source": [
    "`ode.ODERatelawCallback` enables the user-defined function for calculating a flux."
   ]
  },
  {
   "cell_type": "code",
   "execution_count": 8,
   "metadata": {
    "collapsed": false
   },
   "outputs": [
    {
     "name": "stdout",
     "output_type": "stream",
     "text": [
      "A+B>C|mass_action\n"
     ]
    }
   ],
   "source": [
    "def mass_action(reactants, products, volume, t, rr):\n",
    "    veloc = 2.0 * volume\n",
    "    for value in reactants:\n",
    "        veloc *= value / volume\n",
    "    return veloc\n",
    "\n",
    "rl2 = ode.ODERatelawCallback(mass_action)\n",
    "rr1.set_ratelaw(rl2)\n",
    "print(rr1.as_string())"
   ]
  },
  {
   "cell_type": "markdown",
   "metadata": {},
   "source": [
    "The function bound must accept five arguments and return a floating number as a velocity. The first and second list contain a value for each reactants and products respectively. When you need to access the stoichiometric coefficients, use `rr` (`ode.ODEReactionRule`) in the arguments.\n",
    "\n",
    "A `lambda` function is available too."
   ]
  },
  {
   "cell_type": "code",
   "execution_count": 9,
   "metadata": {
    "collapsed": false
   },
   "outputs": [
    {
     "name": "stdout",
     "output_type": "stream",
     "text": [
      "A+B>C|<lambda>\n"
     ]
    }
   ],
   "source": [
    "rl2 = ode.ODERatelawCallback(lambda r, p, v, t, rr: 2.0 * r[0] * r[1])\n",
    "rr1.set_k(0)\n",
    "rr1.set_ratelaw(rl2)\n",
    "print(rr1.as_string())"
   ]
  },
  {
   "cell_type": "markdown",
   "metadata": {},
   "source": [
    "## 6.3. ode.ODENetworkModel\n",
    "\n",
    "`ode.ODENetworkModel` accepts both `ReactionRule` and `ode.ODEReactionRule`. `ReactionRule` is implicitly converted and stored as a `ode.ODEReactionRule`."
   ]
  },
  {
   "cell_type": "code",
   "execution_count": 10,
   "metadata": {
    "collapsed": true
   },
   "outputs": [],
   "source": [
    "m1 = ode.ODENetworkModel()\n",
    "rr1 = create_unbinding_reaction_rule(Species(\"C\"), Species(\"A\"), Species(\"B\"), 3.0)\n",
    "m1.add_reaction_rule(rr1)\n",
    "rr2 = ode.ODEReactionRule(create_binding_reaction_rule(Species(\"A\"), Species(\"B\"), Species(\"C\"), 0.0))\n",
    "rr2.set_ratelaw(ode.ODERatelawCallback(lambda r, p, v, t, rr: 0.1 * r[0] * r[1]))\n",
    "m1.add_reaction_rule(rr2)"
   ]
  },
  {
   "cell_type": "markdown",
   "metadata": {},
   "source": [
    "You can access to the list of `ode.ODEReactionRule`s in `ode.ODENetworkModel` via its member `reaction_rules()`."
   ]
  },
  {
   "cell_type": "code",
   "execution_count": 11,
   "metadata": {
    "collapsed": false
   },
   "outputs": [
    {
     "name": "stdout",
     "output_type": "stream",
     "text": [
      "['C>A+B|3', 'A+B>C|<lambda>']\n"
     ]
    }
   ],
   "source": [
    "print([rr.as_string() for rr in m1.reaction_rules()])"
   ]
  },
  {
   "cell_type": "markdown",
   "metadata": {},
   "source": [
    "Finally, you can run simulations in the same way with other solvers as follows:"
   ]
  },
  {
   "cell_type": "code",
   "execution_count": 12,
   "metadata": {
    "collapsed": false
   },
   "outputs": [
    {
     "data": {
      "image/png": "[encoded data removed]",
      "text/plain": [
       "<matplotlib.figure.Figure at 0x1d19957a278>"
      ]
     },
     "metadata": {},
     "output_type": "display_data"
    }
   ],
   "source": [
    "run_simulation(1.0, model=m1, y0={'A': 60, 'B': 60})"
   ]
  },
  {
   "cell_type": "markdown",
   "metadata": {},
   "source": [
    "Modeling with Python decorators is also available by specifying a function instead of a rate (floating number). When a floating number is set, it is assumed to be a kinetic rate of a mass action reaction, but not a constant velocity."
   ]
  },
  {
   "cell_type": "code",
   "execution_count": 13,
   "metadata": {
    "collapsed": false
   },
   "outputs": [],
   "source": [
    "with reaction_rules():\n",
    "    A + B == C | (lambda r, *args: 0.1 * reduce(mul, r), 3.0)\n",
    "\n",
    "m1 = get_model()"
   ]
  },
  {
   "cell_type": "markdown",
   "metadata": {},
   "source": [
    "For the simplicity, you can directory defining the equation with `Species` names as follows:"
   ]
  },
  {
   "cell_type": "code",
   "execution_count": 14,
   "metadata": {
    "collapsed": true
   },
   "outputs": [],
   "source": [
    "with reaction_rules():\n",
    "    A + B == C | (0.1 * A * B, 3.0)\n",
    "\n",
    "m1 = get_model()"
   ]
  },
  {
   "cell_type": "markdown",
   "metadata": {},
   "source": [
    "When you call a `Species` (in the rate law) which is not listed as a reactant or product, it is automatically added to the list as an enzyme."
   ]
  },
  {
   "cell_type": "code",
   "execution_count": 15,
   "metadata": {
    "collapsed": false
   },
   "outputs": [
    {
     "name": "stdout",
     "output_type": "stream",
     "text": [
      "S+E>P+E|((1.0*E*S)/(30.0+S))\n"
     ]
    }
   ],
   "source": [
    "with reaction_rules():\n",
    "    S > P | 1.0 * E * S / (30.0 + S)\n",
    "\n",
    "m1 = get_model()\n",
    "print(m1.reaction_rules()[0].as_string())"
   ]
  },
  {
   "cell_type": "markdown",
   "metadata": {},
   "source": [
    "where `E` in the equation is appended to both reacant and product lists."
   ]
  },
  {
   "cell_type": "code",
   "execution_count": 16,
   "metadata": {
    "collapsed": false
   },
   "outputs": [
    {
     "data": {
      "image/png": "[encoded data removed]",
      "text/plain": [
       "<matplotlib.figure.Figure at 0x1d19bd8ad68>"
      ]
     },
     "metadata": {},
     "output_type": "display_data"
    }
   ],
   "source": [
    "run_simulation(10.0, model=m1, y0={'S': 60, 'E': 30})"
   ]
  },
  {
   "cell_type": "markdown",
   "metadata": {},
   "source": [
    "Please be careful about typo in `Species`' name. When you make a typo, it is unintentionally recognized as a new enzyme:"
   ]
  },
  {
   "cell_type": "code",
   "execution_count": 17,
   "metadata": {
    "collapsed": false
   },
   "outputs": [
    {
     "name": "stdout",
     "output_type": "stream",
     "text": [
      "A13P2G+A13B2G>A23P2G+A13B2G|(1500*A13B2G)\n"
     ]
    }
   ],
   "source": [
    "with reaction_rules():\n",
    "    A13P2G > A23P2G | 1500 * A13B2G  # typo: A13P2G -> A13B2G\n",
    "\n",
    "m1 = get_model()\n",
    "print(m1.reaction_rules()[0].as_string())"
   ]
  },
  {
   "cell_type": "markdown",
   "metadata": {},
   "source": [
    "When you want to disable the automatic declaration of enzymes, inactivate `util.decorator.ENABLE_IMPLICIT_DECLARATION`. If its value is `False`, the above case will raise an error:"
   ]
  },
  {
   "cell_type": "code",
   "execution_count": 20,
   "metadata": {
    "collapsed": false
   },
   "outputs": [
    {
     "name": "stdout",
     "output_type": "stream",
     "text": [
      "RuntimeError('unknown variable [A13B2G] was used.',)\n"
     ]
    }
   ],
   "source": [
    "util.decorator.ENABLE_IMPLICIT_DECLARATION = False\n",
    "\n",
    "try:\n",
    "    with reaction_rules():\n",
    "        A13P2G > A23P2G | 1500 * A13B2G\n",
    "except RuntimeError as e:\n",
    "    print(repr(e))\n",
    "\n",
    "util.decorator.ENABLE_IMPLICIT_DECLARATION = True"
   ]
  },
  {
   "cell_type": "markdown",
   "metadata": {},
   "source": [
    "Although E-Cell4 is specialized for a simulation of biochemical reaction network, by using a synthetic reaction rule, ordinary differential equations can be translated intuitively. For example, the Lotka-Volterra equations:\n",
    "\n",
    "$$\\frac{dx}{dt} = Ax - Bxy\\\\\\frac{dy}{dt} = -Cx + Dxy$$\n",
    "\n",
    "where $A=1.5, B=1, C=3, D=1, x(0)=10, y(0)=5$, are solved as follows:"
   ]
  },
  {
   "cell_type": "code",
   "execution_count": 19,
   "metadata": {
    "collapsed": false
   },
   "outputs": [
    {
     "data": {
      "image/png": "[encoded data removed]",
      "text/plain": [
       "<matplotlib.figure.Figure at 0x7f87d4732d90>"
      ]
     },
     "metadata": {},
     "output_type": "display_data"
    }
   ],
   "source": [
    "with reaction_rules():\n",
    "    A, B, C, D = 1.5, 1, 3, 1\n",
    "\n",
    "    ~x > x | A * x - B * x * y\n",
    "    ~y > y | -C * y + D * x * y\n",
    "\n",
    "run_simulation(10, model=get_model(), y0={'x': 10, 'y': 5})"
   ]
  },
  {
   "cell_type": "markdown",
   "metadata": {},
   "source": [
    "## 6.4. References in a Rate Law\n",
    "\n",
    "Here, we exlain the details in the rate law definition.\n",
    "\n",
    "First, when you use simpler definitions of a rate law with `Species`, only a limited number of mathematical functions (e.g. `exp`, `log`, `sin`, `cos`, `tan`, `asin`, `acos`, `atan`, and `pi`) are available there even if you declare the function outside the block."
   ]
  },
  {
   "cell_type": "code",
   "execution_count": 20,
   "metadata": {
    "collapsed": false
   },
   "outputs": [
    {
     "name": "stdout",
     "output_type": "stream",
     "text": [
      "TypeError('a float is required',)\n"
     ]
    }
   ],
   "source": [
    "try:\n",
    "    from math import erf\n",
    "\n",
    "    with reaction_rules():\n",
    "        S > P | erf(S / 30.0)\n",
    "except TypeError as e:\n",
    "    print(repr(e))"
   ]
  },
  {
   "cell_type": "markdown",
   "metadata": {},
   "source": [
    "This is because `erf` is tried to be evaluated agaist `S / 30.0` first, but it is not a floating number. In contrast, the following case is acceptable:"
   ]
  },
  {
   "cell_type": "code",
   "execution_count": 21,
   "metadata": {
    "collapsed": false
   },
   "outputs": [
    {
     "name": "stdout",
     "output_type": "stream",
     "text": [
      "S>P|(0.995322265019*S)\n"
     ]
    }
   ],
   "source": [
    "from math import erf\n",
    "\n",
    "with reaction_rules():\n",
    "    S > P | erf(2.0) * S\n",
    "\n",
    "m1 = get_model()\n",
    "print(m1.reaction_rules()[0].as_string())"
   ]
  },
  {
   "cell_type": "markdown",
   "metadata": {},
   "source": [
    "where only the result of `erf(2.0)`, `0.995322265019`, is passed to the rate law. Thus, the rate law above has no reference to the `erf` function. Similarly, a value of variables declared outside is acceptable, but not as a reference."
   ]
  },
  {
   "cell_type": "code",
   "execution_count": 22,
   "metadata": {
    "collapsed": false
   },
   "outputs": [
    {
     "name": "stdout",
     "output_type": "stream",
     "text": [
      "S+E>P+E|((1.0*E*S)/(30.0+S))\n",
      "S+E>P+E|((1.0*E*S)/(30.0+S))\n"
     ]
    }
   ],
   "source": [
    "kcat, Km = 1.0, 30.0\n",
    "\n",
    "with reaction_rules():\n",
    "    S > P | kcat * E * S / (Km + S)\n",
    "\n",
    "m1 = get_model()\n",
    "print(m1.reaction_rules()[0].as_string())\n",
    "kcat = 2.0\n",
    "print(m1.reaction_rules()[0].as_string())"
   ]
  },
  {
   "cell_type": "markdown",
   "metadata": {},
   "source": [
    "Even if you change the value of a variable, it does **not** affect the rate law.\n",
    "\n",
    "On the other hand, when you use your own function to define a rate law, it can hold a reference to variables outside."
   ]
  },
  {
   "cell_type": "code",
   "execution_count": 23,
   "metadata": {
    "collapsed": false
   },
   "outputs": [
    {
     "data": {
      "image/png": "[encoded data removed]",
      "text/plain": [
       "<matplotlib.figure.Figure at 0x7f87fa7ec850>"
      ]
     },
     "metadata": {},
     "output_type": "display_data"
    }
   ],
   "source": [
    "k1 = 1.0\n",
    "\n",
    "with reaction_rules():\n",
    "    S > P | (lambda r, *args: k1 * r[0])  # referring k1\n",
    "\n",
    "m1 = get_model()\n",
    "\n",
    "obs1 = run_simulation(2, model=m1, y0={\"S\": 60}, return_type='observer')\n",
    "k1 = 2.0\n",
    "obs2 = run_simulation(2, model=m1, y0={\"S\": 60}, return_type='observer')\n",
    "\n",
    "viz.plot_number_observer(obs1, '-', obs2, '--')"
   ]
  },
  {
   "cell_type": "markdown",
   "metadata": {},
   "source": [
    "However, in this case, it is better to make a new model for each set of parameters."
   ]
  },
  {
   "cell_type": "code",
   "execution_count": 24,
   "metadata": {
    "collapsed": false
   },
   "outputs": [],
   "source": [
    "def create_model(k):\n",
    "    with reaction_rules():\n",
    "        S > P | k\n",
    "\n",
    "    return get_model()\n",
    "\n",
    "obs1 = run_simulation(2, model=create_model(k=1.0), y0={\"S\": 60}, return_type='observer')\n",
    "obs2 = run_simulation(2, model=create_model(k=2.0), y0={\"S\": 60}, return_type='observer')\n",
    "# viz.plot_number_observer(obs1, '-', obs2, '--')"
   ]
  },
  {
   "cell_type": "markdown",
   "metadata": {},
   "source": [
    "## 6.5. More about ode\n",
    "\n",
    "In `ode.ODEWorld`, a value for each `Species` is a floating number. However, for the compatibility, the common member `num_molecules` and `add_molecules` regard the value as an integer."
   ]
  },
  {
   "cell_type": "code",
   "execution_count": 25,
   "metadata": {
    "collapsed": false
   },
   "outputs": [
    {
     "name": "stdout",
     "output_type": "stream",
     "text": [
      "2\n"
     ]
    }
   ],
   "source": [
    "w = ode.ODEWorld()\n",
    "w.add_molecules(Species(\"A\"), 2.5)\n",
    "print(w.num_molecules(Species(\"A\")))"
   ]
  },
  {
   "cell_type": "markdown",
   "metadata": {},
   "source": [
    "To set/get a real number, use `set_value` and `get_value`:"
   ]
  },
  {
   "cell_type": "code",
   "execution_count": 26,
   "metadata": {
    "collapsed": false
   },
   "outputs": [
    {
     "name": "stdout",
     "output_type": "stream",
     "text": [
      "2.0\n",
      "2.5\n"
     ]
    }
   ],
   "source": [
    "w.set_value(Species(\"B\"), 2.5)\n",
    "print(w.get_value(Species(\"A\")))\n",
    "print(w.get_value(Species(\"B\")))"
   ]
  },
  {
   "cell_type": "markdown",
   "metadata": {},
   "source": [
    "As a default, `ode.ODESimulator` employs the Rosenblock method, called `ROSENBROCK4_CONTROLLER`, to solve ODEs. In addition to that, two solvers, `EULER` and `RUNGE_KUTTA_CASH_KARP54`, are available. `ROSENBROCK4_CONTROLLER` and `RUNGE_KUTTA_CASH_KARP54` adaptively change the step size during time evolution due to error controll, but `EULER` does not."
   ]
  },
  {
   "cell_type": "code",
   "execution_count": 27,
   "metadata": {
    "collapsed": false
   },
   "outputs": [],
   "source": [
    "with reaction_rules():\n",
    "    A > ~A | 1.0\n",
    "\n",
    "m1 = get_model()\n",
    "\n",
    "w1 = ode.ODEWorld()\n",
    "w1.set_value(Species(\"A\"), 1.0)\n",
    "sim1 = ode.ODESimulator(m1, w1, ode.EULER)\n",
    "sim1.set_dt(0.01) # This is only effective for EULER\n",
    "sim1.run(3.0, obs1)"
   ]
  },
  {
   "cell_type": "markdown",
   "metadata": {},
   "source": [
    "`ode.ODEFactory` also accepts a solver type and a default step interval."
   ]
  },
  {
   "cell_type": "code",
   "execution_count": 28,
   "metadata": {
    "collapsed": false
   },
   "outputs": [
    {
     "data": {
      "image/png": "[encoded data removed]",
      "text/plain": [
       "<matplotlib.figure.Figure at 0x7f87d4732250>"
      ]
     },
     "metadata": {},
     "output_type": "display_data"
    }
   ],
   "source": [
    "run_simulation(3.0, model=m1, y0={\"A\": 1.0}, solver=('ode', ode.EULER, 0.01))"
   ]
  },
  {
   "cell_type": "markdown",
   "metadata": {},
   "source": [
    "See also examples listed below:\n",
    "\n",
    "* [Glycolysis of Human Erythrocytes](../Examples/Glycolysis of Human Erythrocytes.ipynb)\n",
    "* [Drosophila Circadian Clock](../Examples/Drosophila Circadian Clock.ipynb)\n",
    "* [Attractors](../Examples/Attractors.ipynb)"
   ]
  }
 ],
 "metadata": {
  "anaconda-cloud": {},
  "kernelspec": {
   "display_name": "Python [default]",
   "language": "python",
   "name": "python3"
  },
  "language_info": {
   "codemirror_mode": {
    "name": "ipython",
    "version": 3
   },
   "file_extension": ".py",
   "mimetype": "text/x-python",
   "name": "python",
   "nbconvert_exporter": "python",
   "pygments_lexer": "ipython3",
   "version": "3.5.2"
  }
 },
 "nbformat": 4,
 "nbformat_minor": 0
}
