{
 "cells": [
  {
   "cell_type": "markdown",
   "metadata": {},
   "source": [
    "# A Simple Model of the Glycolysis of Human Erythrocytes\n",
    "\n",
    "This is a model for the glycolysis of human erythrocytes which takes into account ATP-synthesis and -consumption.\n",
    "This model is based on the model introduced in the following publication.\n",
    "\n",
    "* Rapoport, T.A. and Heinrich, R. (1975) \"Mathematical analysis of multienzyme systems. I. Modelling of the glycolysis of human erythrocytes.\", Biosystems., 7, 1, 120-129. \n",
    "* Heinrich, R. and Rapoport, T.A. (1975) \"Mathematical analysis of multienzyme systems. II. Steady state and transient control.\", Biosystems., 7, 1, 130-136."
   ]
  },
  {
   "cell_type": "code",
   "execution_count": 1,
   "metadata": {
    "collapsed": true
   },
   "outputs": [],
   "source": [
    "%matplotlib inline\n",
    "from ecell4 import *\n",
    "util.decorator.ENABLE_RATELAW = True"
   ]
  },
  {
   "cell_type": "code",
   "execution_count": 2,
   "metadata": {
    "collapsed": false,
    "scrolled": true
   },
   "outputs": [],
   "source": [
    "with reaction_rules():\n",
    "    2 * ATP > 2 * A13P2G + 2 * ADP | (3.2 * ATP / (1.0 + (ATP / 1.0) ** 4.0))\n",
    "    A13P2G > A23P2G | 1500\n",
    "    A23P2G > PEP | 0.15\n",
    "    A13P2G + ADP > PEP + ATP | 1.57e+4\n",
    "    PEP + ADP > ATP | 559\n",
    "    AMP + ATP > 2 * ADP | (1.0 * (AMP * ATP - 2.0 * ADP * ADP))\n",
    "    ATP > ADP | 1.46"
   ]
  },
  {
   "cell_type": "code",
   "execution_count": 3,
   "metadata": {
    "collapsed": true
   },
   "outputs": [],
   "source": [
    "y0 = {\"A13P2G\": 0.0005082, \"A23P2G\": 5.0834, \"PEP\": 0.020502,\n",
    "      \"AMP\": 0.080139, \"ADP\": 0.2190, \"ATP\": 1.196867}"
   ]
  },
  {
   "cell_type": "code",
   "execution_count": 4,
   "metadata": {
    "collapsed": false
   },
   "outputs": [
    {
     "data": {
      "image/png": "[encoded data removed]",
      "text/plain": [
       "<matplotlib.figure.Figure at 0x7f7fe1b99350>"
      ]
     },
     "metadata": {},
     "output_type": "display_data"
    }
   ],
   "source": [
    "run_simulation(100, y0=y0)"
   ]
  }
 ],
 "metadata": {
  "kernelspec": {
   "display_name": "Python 2",
   "language": "python",
   "name": "python2"
  },
  "language_info": {
   "codemirror_mode": {
    "name": "ipython",
    "version": 2
   },
   "file_extension": ".py",
   "mimetype": "text/x-python",
   "name": "python",
   "nbconvert_exporter": "python",
   "pygments_lexer": "ipython2",
   "version": "2.7.6"
  }
 },
 "nbformat": 4,
 "nbformat_minor": 0
}
